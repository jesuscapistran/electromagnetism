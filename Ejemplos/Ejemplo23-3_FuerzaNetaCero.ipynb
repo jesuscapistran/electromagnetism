{
 "cells": [
  {
   "cell_type": "markdown",
   "id": "f111f44a",
   "metadata": {},
   "source": [
    "## Ejemplo 23.3 ¿Dónde es cero la fuerza neta? \n",
    "\n",
    "- Dr. Jesús Capistrán [capistran@gmail.com]\n",
    "- Curso: https://jesuscapistran.com/courses/electricidad-y-magnetismo/\n",
    "\n",
    "\n",
    "Tres cargas puntuales se encuentran a lo largo del eje $x$, como se muestra en la figura 23.8. La carga positiva $q_1 = 15\\mu C$ está en $x= 2$m, la carga positiva $q_2 = 6 \\mu C$ está en el origen y la fuerza neta que actúa sobre $q_3$ es cero. ¿Cuál es la coordenada x de $q_3$?\n"
   ]
  },
  {
   "cell_type": "code",
   "execution_count": 16,
   "id": "45da0d2c",
   "metadata": {},
   "outputs": [],
   "source": [
    "# Importar librerias \n",
    "\n",
    "import numpy as np  \n",
    "import matplotlib.pyplot as plt "
   ]
  },
  {
   "cell_type": "code",
   "execution_count": 56,
   "id": "998b141b",
   "metadata": {},
   "outputs": [],
   "source": [
    "# Definir las constantes \n",
    "\n",
    "q1 = 15e-6 #[C]\n",
    "q2 = 6e-6 #[C]\n",
    "q3 = 8e-6 #[C]\n",
    "\n",
    "ke = 8.98e9 #[Nm^2/C^2] Cte de Coulomb en Sistema Internacional "
   ]
  },
  {
   "cell_type": "code",
   "execution_count": 57,
   "id": "a51a9309",
   "metadata": {},
   "outputs": [],
   "source": [
    "# Crear el vector x (Numpy) https://numpy.org\n",
    "\n",
    "x = np.arange(0.01,2,0.001)"
   ]
  },
  {
   "cell_type": "code",
   "execution_count": 58,
   "id": "25e1269c",
   "metadata": {},
   "outputs": [
    {
     "data": {
      "text/plain": [
       "array([1.08845736e-01, 1.08955211e-01, 1.09064852e-01, ...,\n",
       "       4.78933333e+04, 1.07760000e+05, 4.31040000e+05])"
      ]
     },
     "execution_count": 58,
     "metadata": {},
     "output_type": "execute_result"
    }
   ],
   "source": [
    "# Ley de Coulomb (Interacción entre cargas)\n",
    "\n",
    "F13 = ke*(q1*q3)/(x**2)\n",
    "F23 = ke*(q2*q3)/((2-x)**2)\n",
    "\n",
    "F23"
   ]
  },
  {
   "cell_type": "code",
   "execution_count": 59,
   "id": "09cd4cbe",
   "metadata": {},
   "outputs": [
    {
     "data": {
      "image/png": "[encoded data removed]",
      "text/plain": [
       "<Figure size 432x288 with 1 Axes>"
      ]
     },
     "metadata": {
      "needs_background": "light"
     },
     "output_type": "display_data"
    }
   ],
   "source": [
    "# Graficar las ecuaciones con Matplotlib \n",
    "# URL  https://matplotlib.org\n",
    "# Observar el punto de intersección\n",
    "\n",
    "plt.plot(x,F13)\n",
    "plt.plot(x,F23)\n",
    "plt.ylim(0,0.1e2)\n",
    "plt.xlim(0,2)\n",
    "plt.show()\n"
   ]
  }
 ],
 "metadata": {
  "kernelspec": {
   "display_name": "Python 3 (ipykernel)",
   "language": "python",
   "name": "python3"
  },
  "language_info": {
   "codemirror_mode": {
    "name": "ipython",
    "version": 3
   },
   "file_extension": ".py",
   "mimetype": "text/x-python",
   "name": "python",
   "nbconvert_exporter": "python",
   "pygments_lexer": "ipython3",
   "version": "3.8.12"
  }
 },
 "nbformat": 4,
 "nbformat_minor": 5
}
