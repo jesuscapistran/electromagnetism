{
 "cells": [
  {
   "cell_type": "code",
   "execution_count": 1,
   "id": "986b815a",
   "metadata": {},
   "outputs": [],
   "source": [
    "# Librerias\n",
    "import numpy as np\n",
    "import matplotlib.pyplot as plt"
   ]
  },
  {
   "cell_type": "code",
   "execution_count": 36,
   "id": "7068d884",
   "metadata": {},
   "outputs": [],
   "source": [
    "# Constantes \n",
    "\n",
    "Ke = 8.98e9 #[Nm^2/C^2] Cte de Coulomb en Sistema Internacional \n",
    "a = 1e-3  # 1 mm de radio alambre\n",
    "b = 1e-2  # 1 cm de grosor del cable \n",
    "l = 1     # 1 m de longitud de cable coaxial  "
   ]
  },
  {
   "cell_type": "code",
   "execution_count": 37,
   "id": "717237c1",
   "metadata": {},
   "outputs": [
    {
     "data": {
      "text/plain": [
       "24.181"
      ]
     },
     "execution_count": 37,
     "metadata": {},
     "output_type": "execute_result"
    }
   ],
   "source": [
    "# Calculo de capacitancia\n",
    "\n",
    "c = l/(2*Ke*np.log(b/a))\n",
    "c = c*(1/1e-12) # picoFaradas 1e-12\n",
    "round(c,3)"
   ]
  },
  {
   "cell_type": "code",
   "execution_count": 55,
   "id": "28e9e42b",
   "metadata": {},
   "outputs": [
    {
     "data": {
      "text/plain": [
       "<function matplotlib.pyplot.show(close=None, block=None)>"
      ]
     },
     "execution_count": 55,
     "metadata": {},
     "output_type": "execute_result"
    },
    {
     "data": {
      "image/png": "[encoded data removed]",
      "text/plain": [
       "<Figure size 432x288 with 1 Axes>"
      ]
     },
     "metadata": {
      "needs_background": "light"
     },
     "output_type": "display_data"
    }
   ],
   "source": [
    "# ¿Como Aumentamos la capacitancia? \n",
    "# Aumentamos radio interno del alambre de cobre \n",
    "\n",
    "a2 = np.arange(1e-3, 1e-2, 1e-4)\n",
    "c2 = l/(2*Ke*np.log(b/a2))\n",
    "c2 = c2*(1/1e-12) # picoFaradas 1e-12\n",
    "\n",
    "\n",
    "plt.plot(a2/1e-3,c2)\n",
    "plt.plot(a/1e-3,c,'k*')\n",
    "plt.xlim(0,10)\n",
    "plt.ylim(0,500)\n",
    "plt.xlabel('a [mm]')\n",
    "plt.ylabel('C [pF]')\n",
    "plt.show"
   ]
  },
  {
   "cell_type": "code",
   "execution_count": null,
   "id": "4cb18957",
   "metadata": {},
   "outputs": [],
   "source": []
  }
 ],
 "metadata": {
  "kernelspec": {
   "display_name": "Python 3 (ipykernel)",
   "language": "python",
   "name": "python3"
  },
  "language_info": {
   "codemirror_mode": {
    "name": "ipython",
    "version": 3
   },
   "file_extension": ".py",
   "mimetype": "text/x-python",
   "name": "python",
   "nbconvert_exporter": "python",
   "pygments_lexer": "ipython3",
   "version": "3.8.12"
  }
 },
 "nbformat": 4,
 "nbformat_minor": 5
}
